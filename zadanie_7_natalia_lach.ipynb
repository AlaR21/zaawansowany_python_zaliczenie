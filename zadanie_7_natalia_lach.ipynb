{
 "cells": [
  {
   "cell_type": "code",
   "execution_count": 4,
   "metadata": {},
   "outputs": [],
   "source": [
    "#zadanie 7\n",
    "\n",
    "class Samochod:\n",
    "    def __init__(self, marka, model, rok_produkcji, przebieg):\n",
    "        self.marka = marka\n",
    "        self.model = model\n",
    "        self.rok_produkcji = rok_produkcji\n",
    "        self.przebieg = przebieg\n",
    "\n",
    "    def __str__(self):\n",
    "        return f\"Samochod: {self.marka} {self.model}, Rok produkcji: {self.rok_produkcji}, Przebieg: {self.przebieg} km\"\n",
    "\n",
    "    def __lt__(self, other):\n",
    "        if not isinstance(other, Samochod):\n",
    "            raise TypeError(\"Obiekt musi być instancją klasy Samochod\")\n",
    "        return self.przebieg < other.przebieg\n",
    "\n",
    "\n",
    "samochod1 = Samochod(\"Toyota\", \"Corolla\", 2008, 150000)\n",
    "samochod2 = Samochod(\"Honda\", \"Civic\", 2010, 110000)\n",
    "samochod3 = Samochod(\"Ford\", \"Focus\", 2015, 80000)\n",
    "samochod4 = Samochod(\"Audi\", \"A4\", 2022, 50000)       "
   ]
  },
  {
   "cell_type": "code",
   "execution_count": 9,
   "metadata": {},
   "outputs": [
    {
     "name": "stdout",
     "output_type": "stream",
     "text": [
      "Samochod: Toyota Corolla, Rok produkcji: 2008, Przebieg: 150000 km\n",
      "Samochod: Honda Civic, Rok produkcji: 2010, Przebieg: 110000 km\n",
      "Samochod: Ford Focus, Rok produkcji: 2015, Przebieg: 80000 km\n",
      "Samochod: Audi A4, Rok produkcji: 2022, Przebieg: 50000 km\n"
     ]
    }
   ],
   "source": [
    "print(samochod1)\n",
    "print(samochod2)\n",
    "print(samochod3)\n",
    "print(samochod4)"
   ]
  },
  {
   "cell_type": "code",
   "execution_count": 7,
   "metadata": {},
   "outputs": [
    {
     "data": {
      "text/plain": [
       "False"
      ]
     },
     "execution_count": 7,
     "metadata": {},
     "output_type": "execute_result"
    }
   ],
   "source": [
    "samochod1 < samochod2"
   ]
  },
  {
   "cell_type": "code",
   "execution_count": 8,
   "metadata": {},
   "outputs": [
    {
     "data": {
      "text/plain": [
       "True"
      ]
     },
     "execution_count": 8,
     "metadata": {},
     "output_type": "execute_result"
    }
   ],
   "source": [
    "samochod3 < samochod2"
   ]
  }
 ],
 "metadata": {
  "kernelspec": {
   "display_name": "Python 3",
   "language": "python",
   "name": "python3"
  },
  "language_info": {
   "codemirror_mode": {
    "name": "ipython",
    "version": 3
   },
   "file_extension": ".py",
   "mimetype": "text/x-python",
   "name": "python",
   "nbconvert_exporter": "python",
   "pygments_lexer": "ipython3",
   "version": "3.11.6"
  }
 },
 "nbformat": 4,
 "nbformat_minor": 2
}
