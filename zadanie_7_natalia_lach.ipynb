{
 "cells": [
  {
   "cell_type": "code",
   "execution_count": null,
   "metadata": {},
   "outputs": [],
   "source": [
    "class Samochod:\n",
    "    def __init__(self, marka, model, rok_produkcji, przebieg):\n",
    "        self.marka = marka\n",
    "        self.model = model\n",
    "        self.rok_produkcji = rok_produkcji\n",
    "        self.przebieg = przebieg\n",
    "\n"
   ]
  }
 ],
 "metadata": {
  "language_info": {
   "name": "python"
  }
 },
 "nbformat": 4,
 "nbformat_minor": 2
}
