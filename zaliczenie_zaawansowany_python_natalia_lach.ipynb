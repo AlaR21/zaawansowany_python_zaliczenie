{
 "cells": [
  {
   "cell_type": "code",
   "execution_count": 2,
   "metadata": {},
   "outputs": [
    {
     "name": "stdout",
     "output_type": "stream",
     "text": [
      "Tytuł: Dekalog, Rok: 1989, Ocena: 1\n",
      "Tytuł: Nietykalni, Rok: 2011, Ocena: 2\n",
      "Tytuł: Siedem, Rok: 1995, Ocena: 4\n",
      "Tytuł: Joker, Rok: 2019, Ocena: 5\n",
      "Tytuł: Władca pierścieni, Rok: 2001, Ocena: 6\n",
      "Tytuł: Ojciec chrzestny, Rok: 1972, Ocena: 7\n",
      "Tytuł: Pulp Fiction, Rok: 1994, Ocena: 7\n",
      "Tytuł: Skazani na Shawshank, Rok: 1994, Ocena: 8\n",
      "Tytuł: Piękny umysł, Rok: 2001, Ocena: 9\n",
      "Tytuł: Mroczny rycerz, Rok: 2008, Ocena: 10\n"
     ]
    }
   ],
   "source": [
    "#zadanie 2\n",
    "\n",
    "class Movie:\n",
    "    def __init__(self, title, year, rating):\n",
    "        self.title = title\n",
    "        self.year = year\n",
    "        self.rating = rating\n",
    "\n",
    "movies = [\n",
    "    Movie(\"Skazani na Shawshank\", 1994, 8),\n",
    "    Movie(\"Ojciec chrzestny\", 1972, 7),\n",
    "    Movie(\"Mroczny rycerz\", 2008, 10),\n",
    "    Movie(\"Pulp Fiction\", 1994, 7),\n",
    "    Movie(\"Władca pierścieni\", 2001, 6),\n",
    "    Movie(\"Nietykalni\", 2011, 2),\n",
    "    Movie(\"Dekalog\", 1989, 1),\n",
    "    Movie(\"Piękny umysł\", 2001, 9),\n",
    "    Movie(\"Siedem\", 1995, 4),\n",
    "    Movie(\"Joker\", 2019, 5)\n",
    "]\n",
    "\n",
    "# Sortowanie wg tytułu (rosnąco)\n",
    "movies.sort(key=lambda movie: movie.title)\n",
    "\n",
    "# Sortowanie wg roku (rosnąco)\n",
    "movies.sort(key=lambda movie: movie.year)\n",
    "\n",
    "# Sortowanie wg roku (malejąco)\n",
    "movies.sort(key=lambda movie: movie.year, reverse=True)\n",
    "\n",
    "# Sortowanie wg oceny (malejąco)\n",
    "movies.sort(key=lambda movie: movie.rating, reverse=True)\n",
    "\n",
    "# Sortowanie wg oceny, a następnie wg roku (rosnąco)\n",
    "movies.sort(key=lambda movie: (movie.rating, movie.year))\n",
    "\n",
    "for movie in movies:\n",
    "    print(f\"Tytuł: {movie.title}, Rok: {movie.year}, Ocena: {movie.rating}\")\n",
    "\n"
   ]
  }
 ],
 "metadata": {
  "kernelspec": {
   "display_name": "Python 3",
   "language": "python",
   "name": "python3"
  },
  "language_info": {
   "codemirror_mode": {
    "name": "ipython",
    "version": 3
   },
   "file_extension": ".py",
   "mimetype": "text/x-python",
   "name": "python",
   "nbconvert_exporter": "python",
   "pygments_lexer": "ipython3",
   "version": "3.11.6"
  }
 },
 "nbformat": 4,
 "nbformat_minor": 2
}
